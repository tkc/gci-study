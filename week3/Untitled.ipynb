{
 "cells": [
  {
   "cell_type": "code",
   "execution_count": null,
   "metadata": {},
   "outputs": [],
   "source": [
    "# common\n",
    "import pandas as pd\n",
    "import numpy as np\n",
    "\n",
    "## init part(データの読み込みと前処理)\n",
    "# file_url = \"http://archive.ics.uci.edu/ml/machine-learning-databases/00352/Online%20Retail.xlsx\"\n",
    "# online_retail_data = pd.ExcelFile(file_url)\n",
    "\n",
    "# online_retail_data_table = online_retail_data.parse('Online Retail')\n",
    "# print(online_retail_data_table)\n",
    "# print(\"o\")\n",
    "\n",
    "# online_retail_data_table['cancel_flg'] = online_retail_data_table.InvoiceNo.map(lambda x:str(x)[0])\n",
    "\n",
    "# # InvoiceNoの先頭が5であるものとIDがNullでないものが対象\n",
    "# target_online_retail_data_tb = online_retail_data_table[(online_retail_data_table.cancel_flg == '5') \n",
    "#                                                         & (online_retail_data_table.CustomerID.notnull())]\n",
    "\n",
    "# target_online_retail_data_tb = target_online_retail_data_tb.assign(TotalPrice=target_online_retail_data_tb.Quantity * target_online_retail_data_tb.UnitPrice)\n",
    "# # print(target_online_retail_data_tb)\n",
    "\n"
   ]
  },
  {
   "cell_type": "code",
   "execution_count": 1,
   "metadata": {},
   "outputs": [
    {
     "name": "stdout",
     "output_type": "stream",
     "text": [
      "Untitled-checkpoint.ipynb  homework3-checkpoint.ipynb\n"
     ]
    }
   ],
   "source": [
    "!ls"
   ]
  },
  {
   "cell_type": "code",
   "execution_count": 2,
   "metadata": {},
   "outputs": [
    {
     "name": "stdout",
     "output_type": "stream",
     "text": [
      "o\n"
     ]
    }
   ],
   "source": [
    "print(\"o\")"
   ]
  },
  {
   "cell_type": "code",
   "execution_count": null,
   "metadata": {},
   "outputs": [],
   "source": []
  }
 ],
 "metadata": {
  "kernelspec": {
   "display_name": "Python 3",
   "language": "python",
   "name": "python3"
  },
  "language_info": {
   "codemirror_mode": {
    "name": "ipython",
    "version": 3
   },
   "file_extension": ".py",
   "mimetype": "text/x-python",
   "name": "python",
   "nbconvert_exporter": "python",
   "pygments_lexer": "ipython3",
   "version": "3.6.9"
  }
 },
 "nbformat": 4,
 "nbformat_minor": 4
}
