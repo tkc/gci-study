{
 "cells": [
  {
   "cell_type": "markdown",
   "metadata": {},
   "source": [
    "# 課題（ilect上で提出してください）"
   ]
  },
  {
   "cell_type": "markdown",
   "metadata": {},
   "source": [
    "## Matplotlibを使ったデータ可視化"
   ]
  },
  {
   "cell_type": "markdown",
   "metadata": {},
   "source": [
    "下記の「#common」で始まるセルの中で指定されたリンク先にある購買データをベースに以下の問いに答えて、課題を提出してください。（データの前処理は、以下の記載の通りに行ってください。）\n",
    "    \n",
    "- 購買者（CustomerID）の各合計購買金額を算出し、さらに金額をベースに降順に並び替えをします。\n",
    "- カラムがCustomerIDと合計金額のあるテーブルを作成してください。\n",
    "- そこから、購買者を10等分にグループ分けします（例：100人いたら、10人ずつにグループ分けします。）。\n",
    "- それぞれのグループでの合計購買金額の範囲と、それぞれの金額合計値を算出してください（このアプローチをデシル分析といいます。）。\n",
    "\n",
    "この結果を用いて、パレートの法則（上位2割の顧客が売上全体の8割を占める）を確かめるため、\n",
    "**それぞれのグループが売上の何割を占めるか（Pandas.Series形式で売上が小さいグループが先頭、大きいほど後になるようにしてください）**提出してください。\n",
    "\n",
    "(なお、マーケティング戦略では、このように顧客を分けることをセグメンテーションといい、上位2割に絞ってアプローチを仕掛けることをターゲティングといいます。それぞれの戦略によりますが、優良顧客に的を絞った方が投資対効果が高いことが多いため、このようなアプローチを取ることがあります。)\n",
    "\n",
    "\n",
    "提出するときは、以下の点に注意してください。  \n",
    ">- 以下の関数homeworkの!!WRITE ME!!に処理を書いてください。(**「!!WRITE ME!!」は消して、記入してください。**)\n",
    ">- 実際の提出は記述されたhomework関数全てになり、**提出場所はilect右上にある青字のHomeworkドロップダウンメニューからSaveしてください。Solutionに関数を貼り付けてからSaveを押してください。**\n",
    ">- 前処理は以下のコードを使ってください。  \n",
    ">- 返り値がPandas.Series形式になるようにしてください。  \n",
    ">- 解答は、my_result=pd.Series([0,0.01,0.02,0.021,0.022,0.025,0.025,0.1,0.2,0.6]) のような形になります。(売上割合は昇順にして、合計は1になるようにします。)"
   ]
  },
  {
   "cell_type": "code",
   "execution_count": 35,
   "metadata": {},
   "outputs": [
    {
     "name": "stdout",
     "output_type": "stream",
     "text": [
      "Online Retail.xlsx  Untitled-checkpoint.ipynb  homework3-checkpoint.ipynb\n",
      "--2020-01-13 08:09:31--  http://archive.ics.uci.edu/ml/machine-learning-databases/00352/Online%20Retail.xlsx\n",
      "Resolving archive.ics.uci.edu (archive.ics.uci.edu)... 128.195.10.252\n",
      "Connecting to archive.ics.uci.edu (archive.ics.uci.edu)|128.195.10.252|:80... connected.\n",
      "HTTP request sent, awaiting response... 200 OK\n",
      "Length: 23715344 (23M) [application/x-httpd-php]\n",
      "Saving to: ‘Online Retail.xlsx.1’\n",
      "\n",
      "Online Retail.xlsx. 100%[===================>]  22.62M  5.77MB/s    in 5.7s    \n",
      "\n",
      "2020-01-13 08:09:37 (3.98 MB/s) - ‘Online Retail.xlsx.1’ saved [23715344/23715344]\n",
      "\n",
      "1\n"
     ]
    }
   ],
   "source": [
    "# common\n",
    "import pandas as pd\n",
    "import numpy as np\n",
    "\n",
    "!ls \n",
    "!wget http://archive.ics.uci.edu/ml/machine-learning-databases/00352/Online%20Retail.xlsx\n",
    "\n",
    "print(\"1\")\n",
    "\n",
    "## init part(データの読み込みと前処理)\n",
    "file_url = \"./Online Retail.xlsx\"\n",
    "# file_url = \"http://archive.ics.uci.edu/ml/machine-learning-databases/00352/Online%20Retail.xlsx\"\n",
    "# online_retail_data = pd.ExcelFile(file_url)\n",
    "\n",
    "# online_retail_data_table = online_retail_data.parse('Online Retail')\n",
    "# print(online_retail_data_table)\n",
    "\n",
    "# online_retail_data_table['cancel_flg'] = online_retail_data_table.InvoiceNo.map(lambda x:str(x)[0])\n",
    "\n",
    "# InvoiceNoの先頭が5であるものとIDがNullでないものが対象\n",
    "# target_online_retail_data_tb = online_retail_data_table[(online_retail_data_table.cancel_flg == '5') \n",
    "#                                                         & (online_retail_data_table.CustomerID.notnull())]\n",
    "# target_online_retail_data_tb = target_online_retail_data_tb.assign(TotalPrice=target_online_retail_data_tb.Quantity * target_online_retail_data_tb.UnitPrice)\n",
    "\n",
    "\n",
    "# print(\"end\")\n"
   ]
  },
  {
   "cell_type": "code",
   "execution_count": 34,
   "metadata": {},
   "outputs": [],
   "source": [
    "# working place. everything \n",
    "def homework(target_online_retail_data_tb):\n",
    "    !!WRITE ME!!\n",
    "    return my_result  "
   ]
  },
  {
   "cell_type": "code",
   "execution_count": null,
   "metadata": {},
   "outputs": [],
   "source": []
  },
  {
   "cell_type": "code",
   "execution_count": null,
   "metadata": {},
   "outputs": [],
   "source": []
  }
 ],
 "metadata": {
  "anaconda-cloud": {},
  "kernelspec": {
   "display_name": "Python 3",
   "language": "python",
   "name": "python3"
  },
  "language_info": {
   "codemirror_mode": {
    "name": "ipython",
    "version": 3
   },
   "file_extension": ".py",
   "mimetype": "text/x-python",
   "name": "python",
   "nbconvert_exporter": "python",
   "pygments_lexer": "ipython3",
   "version": "3.6.9"
  }
 },
 "nbformat": 4,
 "nbformat_minor": 4
}
