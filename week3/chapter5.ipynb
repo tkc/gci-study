{
 "cells": [
  {
   "cell_type": "markdown",
   "metadata": {},
   "source": [
    "# 5 Matplotlibを使ったデータ可視化"
   ]
  },
  {
   "cell_type": "markdown",
   "metadata": {},
   "source": [
    "＜章トビラ＞\n",
    "\n",
    "この章では、2章で基礎を学んだMatplotlibについて、さらに深く学びます。2章では折れ線グラフやヒストグラムを扱いましたが、ここでは棒グラフや円グラフ、バブルチャートの作成方法について学びます。\n",
    "\n",
    "そして、この章の最後に今までの総合問題として、時系列データの分析とマーケティングの分析の問題を用意しています。これまで学んだ手法を試せる機会ですので、ぜひチャレンジしてみてください。\n",
    "\n",
    "ゴール：Matplotlibを使って、さまざまなデータを可視化することができる。この章の総合問題が解ける。"
   ]
  },
  {
   "cell_type": "markdown",
   "metadata": {},
   "source": [
    "- **[5.1 データの可視化](#5.1-データの可視化)**\n",
    "    - [5.1.1 データの可視化について](#5.1.1-データの可視化について)\n",
    "    - [5.1.2 この章で使うライブラリのインポート](#5.1.2-この章で使うライブラリのインポート)\n",
    "<br><br>\n",
    "- **[5.2 データ可視化の基礎](#5.2-データ可視化の基礎)**\n",
    "    - [5.2.1 棒グラフ](#5.2.1-棒グラフ)\n",
    "    - [5.2.2 円グラフ](#5.2.2-円グラフ)\n",
    "<br><br>\n",
    "- **[5.3 応用：金融データの可視化](#5.3-応用：金融データの可視化)**\n",
    "    - [5.3.1 可視化する金融データ](#5.3.1-可視化する金融データ)\n",
    "    - [5.3.2 ローソクチャートを表示するモジュール](#5.3.2-ローソクチャートを表示するモジュール)\n",
    "<br><br>\n",
    "- **[5.4 応用：分析結果の見せ方を考えよう](#5.4-応用：分析結果の見せ方を考えよう)**\n",
    "    - [5.4.1 資料作成のポイントについて](#5.4.1-資料作成のポイントについて)\n",
    "<br><br>\n",
    "- **[5.5 総合問題](#5.5-総合問題)**\n",
    "    - [5.5.1 ■総合問題5-1 時系列データ分析](#■総合問題5-1-時系列データ分析)\n",
    "    - [5.5.2 ■総合問題5-2 マーケティング分析](#■総合問題5-2-マーケティング分析)"
   ]
  },
  {
   "cell_type": "markdown",
   "metadata": {},
   "source": [
    "***"
   ]
  },
  {
   "cell_type": "markdown",
   "metadata": {},
   "source": [
    "## 5.1 データの可視化\n",
    "\n",
    "\n",
    "### 5.1.1 データの可視化について\n",
    "2章の冒頭でも触れた通り、データを可視化することで、さまざまな示唆を得ることができます。単に数字をみているだけでは得られない発見もありますし、図にすることで、データに対する理解がより深まります。また、データ分析の結果を相手に説明する場合も、可視化は重要です。さまざまな数値を比較してそれらの数値だけ見せるよりは、それらを棒グラフや円グラフにして見せるほうが、相手にとっても理解がしやすいはずです。ここでは、データの可視化をするための手法や見せ方のポイントを紹介します。\n",
    "\n",
    "\n",
    "### 5.1.2 この章で使うライブラリのインポート\n",
    "\n",
    "この章では、2章で紹介した各種ライブラリを使います。次のようにインポートしていることを前提として、以下、進めていきます。"
   ]
  },
  {
   "cell_type": "code",
   "execution_count": 1,
   "metadata": {},
   "outputs": [
    {
     "data": {
      "text/plain": [
       "'%.3f'"
      ]
     },
     "execution_count": 1,
     "metadata": {},
     "output_type": "execute_result"
    }
   ],
   "source": [
    "# 以下のライブラリを使うので、あらかじめ読み込んでおいてください\n",
    "import numpy as np\n",
    "import numpy.random as random\n",
    "import scipy as sp\n",
    "import pandas as pd\n",
    "from pandas import Series, DataFrame\n",
    "\n",
    "# 可視化ライブラリ\n",
    "import matplotlib.pyplot as plt\n",
    "import matplotlib as mpl\n",
    "import seaborn as sns\n",
    "sns.set()\n",
    "%matplotlib inline\n",
    "\n",
    "# 小数第３位まで表示\n",
    "%precision 3"
   ]
  },
  {
   "cell_type": "markdown",
   "metadata": {},
   "source": [
    "## 5.2 データ可視化の基礎\n",
    "キーワード：棒グラフ、円グラフ、バブルチャート、積み上げグラフ\n",
    "\n",
    "ここでは、データを可視化するMatplotlibについてもう少し詳しく学んでいきましょう。これまで折れ線グラフ、ヒストグラムなどのグラフを使ってきました。ここでは、棒グラフや円グラフ、積み上げグラフなどについても紹介していきます。"
   ]
  },
  {
   "cell_type": "markdown",
   "metadata": {},
   "source": [
    "### 5.2.1 棒グラフ"
   ]
  },
  {
   "cell_type": "markdown",
   "metadata": {},
   "source": [
    "まずは、棒グラフからです。これは、カテゴリーごと（地域別、部門別など）に数値を比較したいときに使います。棒グラフを表示するには、pyplotモジュールの`bar`関数を使います。棒にラベルを表示したいときは、`xtick`関数を使って以下のように指定します。\n",
    "\n",
    "また、そのまま実行するとグラフが左に寄ってあまり見栄えが良くないので、グラフを中央に寄せるために、`align = 'center'`パラメータを指定するとよいでしょう。$x$のラベルや$y$のラベルの付け方は、2章で説明した通りです。"
   ]
  },
  {
   "cell_type": "code",
   "execution_count": 2,
   "metadata": {},
   "outputs": [
    {
     "data": {
      "image/png": "[encoded data removed]",
      "text/plain": [
       "<Figure size 720x432 with 1 Axes>"
      ]
     },
     "metadata": {
      "needs_background": "light"
     },
     "output_type": "display_data"
    }
   ],
   "source": [
    "# 表示するデータ\n",
    "x = [1, 2, 3]\n",
    "y = [10, 1, 4]\n",
    "\n",
    "# グラフの大きさ指定  \n",
    "plt.figure(figsize = (10, 6))\n",
    "\n",
    "plt.bar(x, y, align='center', width = 0.5)\n",
    "\n",
    "# 棒グラフそれぞれのラベル\n",
    "plt.xticks(x, ['A Class', 'B Class', 'C Class'])\n",
    "\n",
    "# xとyのラベルを設定\n",
    "plt.xlabel('Class')\n",
    "plt.ylabel('Score')\n",
    "\n",
    "# グリッドを表示\n",
    "plt.grid(True)"
   ]
  },
  {
   "cell_type": "markdown",
   "metadata": {},
   "source": [
    "#### 横の棒グラフ\n",
    "先ほどは縦の棒グラフでしたが、横にしたい場合は、`barh`関数を使います。なお、$x$の軸と$y$の軸が入れかわるので、ラベルを再設定しています。"
   ]
  },
  {
   "cell_type": "code",
   "execution_count": 3,
   "metadata": {},
   "outputs": [
    {
     "data": {
      "image/png": "[encoded data removed]",
      "text/plain": [
       "<Figure size 720x432 with 1 Axes>"
      ]
     },
     "metadata": {
      "needs_background": "light"
     },
     "output_type": "display_data"
    }
   ],
   "source": [
    "# 表示するデータ\n",
    "x = [1, 2, 3]\n",
    "y = [10, 1, 4]\n",
    "\n",
    "# グラフの大きさ指定 \n",
    "plt.figure(figsize = (10, 6))\n",
    "\n",
    "plt.barh(x, y, align = 'center')\n",
    "plt.yticks(x, ['A Class','B Class','C Class'])\n",
    "plt.ylabel('Class')\n",
    "plt.xlabel('Score')\n",
    "plt.grid(True)"
   ]
  },
  {
   "cell_type": "markdown",
   "metadata": {},
   "source": [
    "#### 複数のグラフを描く\n",
    "\n",
    "次に複数の棒グラフを描き、それぞれ比較してみましょう。以下は、クラスごとに数学の一期目の成績と最終成績をそれぞれグラフ化し、比較できるようにしたものです。"
   ]
  },
  {
   "cell_type": "code",
   "execution_count": null,
   "metadata": {},
   "outputs": [],
   "source": [
    "# データの準備\n",
    "y1 = np.array([30, 10, 40])\n",
    "y2 = np.array([10, 50, 90])\n",
    "\n",
    "# X軸のデータ\n",
    "x = np.arange(len(y1))\n",
    "\n",
    "# グラフの幅\n",
    "w = 0.4\n",
    "\n",
    "# グラフの大きさ指定\n",
    "plt.figure(figsize = (10, 6))\n",
    "\n",
    "# グラフの描画。y2の方はグラフの幅の分、右にずらして描画する \n",
    "plt.bar(x, y1, color = 'blue', width = w, label = 'Math first', align = 'center')\n",
    "plt.bar(x + w, y2, color='green', width = w, label = 'Math final', align = 'center')\n",
    "\n",
    "# 凡例を最適な位置に配置\n",
    "plt.legend(loc = 'best')\n",
    "\n",
    "plt.xticks(x + w / 2, ['Class A', 'Class B', 'Class C'])\n",
    "plt.grid(True)"
   ]
  },
  {
   "cell_type": "markdown",
   "metadata": {},
   "source": [
    "#### 積み上げ棒グラフ\n",
    "\n",
    "次に示すのは、積み上げの棒グラフの例です。同じく`bar`関数を使っていますが、`bottom`パラメータの設定に注目してください。上に積む方のグラフで、`bar`のパラメータとしてbottom=＜下に積むグラフ＞を指定します。"
   ]
  },
  {
   "cell_type": "code",
   "execution_count": null,
   "metadata": {},
   "outputs": [],
   "source": [
    "# データの準備\n",
    "height1 = np.array([100, 200, 300, 400, 500])\n",
    "height2 = np.array([1000, 800, 600, 400, 200])\n",
    "\n",
    "# X軸\n",
    "x = np.array([1, 2, 3, 4, 5]) \n",
    "\n",
    "# グラフの大きさ指定 \n",
    "plt.figure(figsize = (10, 6))\n",
    "\n",
    "# グラフの描画\n",
    "p1 = plt.bar(x, height1, color = 'blue')\n",
    "p2 = plt.bar(x, height2, bottom = height1, color='lightblue')\n",
    "\n",
    "# 凡例を表示 \n",
    "plt.legend((p1[0], p2[0]), ('Class 1', 'Class 2'))"
   ]
  },
  {
   "cell_type": "markdown",
   "metadata": {},
   "source": [
    "なお、すでに説明していますが、関数のパラメータ等は、`help`関数を使うと調べられます。"
   ]
  },
  {
   "cell_type": "code",
   "execution_count": null,
   "metadata": {},
   "outputs": [],
   "source": [
    "help(plt.legend)"
   ]
  },
  {
   "cell_type": "markdown",
   "metadata": {},
   "source": [
    "### 5.2.2 円グラフ\n",
    "次に、円グラフの描き方を説明します。これは、全体に対する割合が各々どれくらいあるのか見るときに使います。\n",
    "\n",
    "#### 一般的な円グラフ\n",
    "円グラフを描くには`pie`関数を使って、それぞれのサイズやラベル等を設定します。`axis`関数で円グラフを丸く表示するように調整します。`autopct`パラメータでそれぞれの割合を表示する書式を指定します。また`explode`パラメータを指定すると、特定のカテゴリーだけ、円グラフの全体から離す調整ができます（ここでは、`Hogs`だけ0.1に設定しています）。\n",
    "\n",
    "`startangle`パラメータは、各要素の出力を開始する角度を表します。このパラメータを指定することで、出力開始位置を変更でき、「90」と指定すると上部中央が開始位置になります。反時計回りの方向に変更したい場合は正の値、時計回りに変更したい場合は負の値を指定します。\n",
    "\n",
    "出力する向きは`counterclock`パラメータで指定します。`True`または指定しない場合は時計回りに、`False`と指定すると反時計回りに出力されます。\n"
   ]
  },
  {
   "cell_type": "code",
   "execution_count": null,
   "metadata": {},
   "outputs": [],
   "source": [
    "import matplotlib.pyplot as plt\n",
    "\n",
    "labels = ['Frogs', 'Hogs', 'Dogs', 'Logs']\n",
    "sizes = [15, 30, 45, 10]\n",
    "colors = ['yellowgreen', 'gold', 'lightskyblue', 'lightcoral']\n",
    "explode = (0, 0.1, 0, 0) \n",
    "\n",
    "# グラフの大きさ指定\n",
    "plt.figure(figsize = (15, 6))\n",
    "\n",
    "# グラフを表示\n",
    "plt.pie(sizes, explode = explode, labels = labels, colors = colors,\n",
    "        autopct = '%1.1f%%', shadow = True, startangle = 90)\n",
    "\n",
    "# 円を丸く描画\n",
    "plt.axis('equal')"
   ]
  },
  {
   "cell_type": "markdown",
   "metadata": {},
   "source": [
    "`pie`関数のパラメータも、次のように`help`関数で確認できます。"
   ]
  },
  {
   "cell_type": "code",
   "execution_count": null,
   "metadata": {
    "scrolled": true
   },
   "outputs": [],
   "source": [
    "help(plt.pie)"
   ]
  },
  {
   "cell_type": "markdown",
   "metadata": {},
   "source": [
    "#### バブルチャート\n",
    "次に`scatter`関数を使って、バブルチャートを作成してみます。"
   ]
  },
  {
   "cell_type": "code",
   "execution_count": null,
   "metadata": {},
   "outputs": [],
   "source": [
    "import numpy as np\n",
    "import matplotlib.pyplot as plt\n",
    "\n",
    "N = 25\n",
    "\n",
    "# X,Yデータをランダムに生成 \n",
    "x = np.random.rand(N)\n",
    "y = np.random.rand(N)\n",
    "\n",
    "# color番号\n",
    "colors = np.random.rand(N)\n",
    "\n",
    "# バブルの大きさをばらけさせる \n",
    "area = 10 * np.pi * (15 * np.random.rand(N)) ** 2\n",
    "\n",
    "# グラフの大きさ指定\n",
    "plt.figure(figsize = (15, 6))\n",
    "\n",
    "# グラフを描画\n",
    "plt.scatter(x, y, s = area, c = colors, alpha = 0.5)\n",
    "plt.grid(True)"
   ]
  },
  {
   "cell_type": "markdown",
   "metadata": {},
   "source": [
    "`scatter`関数のパラメータも`help`を使って確認しましょう。"
   ]
  },
  {
   "cell_type": "code",
   "execution_count": null,
   "metadata": {},
   "outputs": [],
   "source": [
    "help(plt.scatter)"
   ]
  },
  {
   "cell_type": "markdown",
   "metadata": {},
   "source": [
    "なお、Pandasにも可視化機能が備わっており、`plot`メソッドでグラフ化できます。たとえばデータの後に「`.plot(kind='bar')`」と記すと、縦の棒グラフが描けます。「`kind='barh'`」にすれば横の棒グラフ、「`kind='pie'`」にすれば円グラフとなります。必要なときに使ってください。\n",
    "また本節の練習問題以外にも、以前扱ったデータを使って、色々とグラフ化できるので、実際にどのようなグラフができるか、作成してみましょう。"
   ]
  },
  {
   "cell_type": "markdown",
   "metadata": {},
   "source": [
    ">**[やってみよう]**\n",
    ">\n",
    ">以下の練習問題以外にもデータを色々とグラフ化してみましょう。どのような目的を持って、どんなグラフを作成しますか?"
   ]
  },
  {
   "cell_type": "markdown",
   "metadata": {},
   "source": [
    "これまでデータの可視化についてPythonの機能を紹介・実行してきましたが、データ分析やデータの可視化が注目されている現在、さまざまなデータ可視化ツール（Tableau 、Excel、PowerBIなど）があるため、ビジネスの現場ではそれらを使う場面が多くなっており、Pythonや他のプログラミング言語で可視化する機会は減っていきそうな雰囲気はあります。\n",
    "\n",
    "しかし可視化レポートの自動化、アプリケーションとの連携、可視化の細かい設定などはプログラミングをした方が柔軟に対応できるケースもあります。そういった用途でデータの可視化を行うときはぜひ活用してください。"
   ]
  },
  {
   "cell_type": "markdown",
   "metadata": {},
   "source": [
    "#### <練習問題 5-1>\n",
    "\n",
    "数学の成績を示すデータである「student-mat.csv」を使って、学校を選んだ理由（`reason`）を円グラフ化して、それぞれの割合を出してください。"
   ]
  },
  {
   "cell_type": "markdown",
   "metadata": {},
   "source": [
    "#### <練習問題 5-2>\n",
    "\n",
    "<練習問題 5-2>と同じデータで、`higher` (高い教育を受けたいかどうか。値は`yes`か`no`）を軸にして、それぞれの数学の最終成績G3の平均値を棒グラフで表示してください。ここから何か推測できることはありますか？"
   ]
  },
  {
   "cell_type": "markdown",
   "metadata": {},
   "source": [
    "#### <練習問題 5-3>\n",
    "\n",
    "上記と同じデータで、通学時間（`traveltime`）を軸にして、それぞれの数学の最終成績G3の平均値を横棒グラフで表示してください。何か推測できることはありますか？"
   ]
  },
  {
   "cell_type": "markdown",
   "metadata": {},
   "source": [
    "## 5.3 応用：金融データの可視化\n",
    "キーワード：ローソクチャート"
   ]
  },
  {
   "cell_type": "markdown",
   "metadata": {},
   "source": [
    "ここでは、金融データの可視化について扱っていきます。ただし、応用範囲ですので、スキップしても問題ありません。練習問題もありません。"
   ]
  },
  {
   "cell_type": "markdown",
   "metadata": {},
   "source": [
    "### 5.3.1 可視化する金融データ"
   ]
  },
  {
   "cell_type": "markdown",
   "metadata": {},
   "source": [
    "この節では、次に示す金融データの可視化を考えます。"
   ]
  },
  {
   "cell_type": "code",
   "execution_count": null,
   "metadata": {},
   "outputs": [],
   "source": [
    "# 日付データの設定。freq='T'で1分ごとにデータを生成する\n",
    "idx = pd.date_range('2015/01/01', '2015/12/31 23:59', freq='T')\n",
    "\n",
    "# 乱数の発生。１か−１を発生させる\n",
    "dn = np.random.randint(2, size = len(idx)) * 2 - 1\n",
    "\n",
    "# ランダムウォーク（ランダムに数値が増減するデータ）を作成\n",
    "# np.cumprodは累積積を算出している（1番目の要素 * 2番目の要素 * 3番目の要素 * … と和が累積されていく）\n",
    "rnd_walk = np.cumprod(np.exp(dn * 0.0002)) * 100\n",
    "\n",
    "# resample('B')でデータを営業日単位でリサンプリング。\n",
    "# ohlcメソッドで「open」「high」「low」「close」の4つのデータにする。\n",
    "df = pd.Series(rnd_walk, index=idx).resample('B').ohlc()"
   ]
  },
  {
   "cell_type": "markdown",
   "metadata": {},
   "source": [
    "そのままプロットすると、以下のようになります。なお、ここではPandasの可視化機能を使っています。数値はランダムに生成しているので、実際には紙面とは異なる形のグラフになります。"
   ]
  },
  {
   "cell_type": "code",
   "execution_count": null,
   "metadata": {},
   "outputs": [],
   "source": [
    "df.plot(figsize = (15,6), legend = 'best', grid = True)"
   ]
  },
  {
   "cell_type": "markdown",
   "metadata": {},
   "source": [
    "### 5.3.2 ローソクチャートを表示するライブラリ"
   ]
  },
  {
   "cell_type": "markdown",
   "metadata": {},
   "source": [
    "このグラフをローソクチャートとして表示してみましょう。\n",
    "そのためには、Plotlyライブラリが必要です。Jupyter Notebookのセルに「!pip install plotly」と入力して［Run］を実行し、インストールしておいてださい。\n",
    "\n",
    "\n",
    "ローソクチャートの表示に関しては、参考URL「B-23」も参考にしてください。\n"
   ]
  },
  {
   "cell_type": "code",
   "execution_count": null,
   "metadata": {},
   "outputs": [],
   "source": [
    "!pip install plotly "
   ]
  },
  {
   "cell_type": "markdown",
   "metadata": {},
   "source": [
    "Plotlyライブラリのローソクチャート作成の機能を使えば、以下のように綺麗に表示することができます。インタラクティブにグラフをズームインすることもできますし、カーソルを載せると数字が表示され便利です。"
   ]
  },
  {
   "cell_type": "code",
   "execution_count": null,
   "metadata": {},
   "outputs": [],
   "source": [
    "# plotly モジュールのインポート\n",
    "from plotly.offline import init_notebook_mode, iplot\n",
    "from plotly import figure_factory as FF\n",
    "\n",
    "# Jupyter notebook用設定\n",
    "init_notebook_mode(connected=False) \n",
    "\n",
    "# ローソクチャートの設定\n",
    "fig = FF.create_candlestick(df.open, df.high, df.low, df.close, dates = df.index)\n",
    "iplot(fig)"
   ]
  },
  {
   "cell_type": "markdown",
   "metadata": {},
   "source": [
    "参考文献「A-16」もご覧ください。PythonではなくJavaScriptのものもありますが、データを可視化するのに参考となります。『PythonユーザのためのJupyter［実践］入門』はJupyter Notebookの使い方について詳しく記載があり、データの可視化についてのコンテンツが充実しています。"
   ]
  },
  {
   "cell_type": "markdown",
   "metadata": {},
   "source": [
    "## 5.4 応用：分析結果の見せ方を考えよう\n",
    "ゴール：基本的な資料作成の方法を知る、データ分析結果を伝えるためのポイントを知る"
   ]
  },
  {
   "cell_type": "markdown",
   "metadata": {},
   "source": [
    "これまでは、データ分析に必要なプログラミング技法を中心に、データ処理やそのテクニックについて学んできました。データの可視化についても、データを棒グラフにしたり、折れ線グラフにする方法、ラベルのつけ方など、テクニカルな解説が中心でした。自分自身の理解のために、探索的にデータをチェックするだけであれば、特に体裁は気にせず、デフォルトでグラフ表示される結果を見るだけでよいかもしれません。しかし、データ分析の結果を第三者に伝えるためには、その見せ方を工夫する必要があります。説明的分析ともいいますが、そのデータ分析結果を他人に伝える方法や、その資料作成の方法について、基本的なポイントを以下に記載します。"
   ]
  },
  {
   "cell_type": "markdown",
   "metadata": {},
   "source": [
    "### 5.4.1 資料作成のポイントについて\n",
    "キーワード：特になし"
   ]
  },
  {
   "cell_type": "markdown",
   "metadata": {},
   "source": [
    "データの分析結果の報告は、今の会社にいる上層部への報告、クライアントへの提案など、さまざまな場面があります。資料作成の方法は、以下で紹介する参考文献などたくさんありますが、次に示す点は共通して大切です。"
   ]
  },
  {
   "cell_type": "markdown",
   "metadata": {},
   "source": [
    "- 何のためにデータ分析をして、何を見せたいのかはっきりさせる\n",
    "\n",
    "- そもそもその分析結果を誰に伝えるのか？　を考える\n",
    "\n",
    "- いきなり資料の作成を開始しない、PowerPointを開かない、その前に考える\n",
    "\n",
    "- その結果を見せることで、どんな具体的なアクションを促したいか？\n",
    "\n",
    "- それをやることでどれだけ儲かるか？　コストが下がるのか？\n",
    "\n",
    "- 何を話すのか、目次（アジェンダ）をはっきりさせる（全体像を見せる） \n",
    "\n",
    "- 基本的に結論が先\n",
    "\n",
    "- 情報を入れすぎない、無駄なものは削除\n",
    "\n",
    "- 言いたいことを一言で＋下にその根拠となるデータ（表）の可視化\n",
    "\n",
    "- ストーリーを考える"
   ]
  },
  {
   "cell_type": "markdown",
   "metadata": {},
   "source": [
    "その他、第三者に説明するときに3Dのグラフはあまり使わないほうが良いなどのポイントなどもありますが、それも場面によるので、やはりその結果を誰に見せるのか考えることが大事です。\n",
    "\n",
    "また、先ほども書いたように、データを可視化するのは、Excelや他のツール（Tableauなど）でも良いです。この書籍ではPythonを採用しているのでMatplotlibを使ってグラフ等を表示していますが、ビジネスの現場で無理してMatplotlibを使う必要はありません。データがそれほど大きくない場合、素早くデータを可視化するのにExcelは非常に優れています。ケースバイケースで判断して、ツールを選んでください。"
   ]
  },
  {
   "cell_type": "markdown",
   "metadata": {},
   "source": [
    "短いですが、以上が資料作成の基本となる作法になります。本書では、これ以上詳しくは扱いません。\n",
    "以下は参考となる本で、資料を作成する際に読んでみてください。なお、本書は資料作成を主テーマとした本ではないので、テクニカルな技術を身につけるという視点でこのまま解説をしていきます。\n",
    "\n",
    "参考文献「A-17」も参考にしてください。"
   ]
  },
  {
   "cell_type": "markdown",
   "metadata": {},
   "source": [
    "以上でデータ可視化の章は終了です。お疲れ様でした。\n",
    "\n",
    "次の問題は、金融の時系列データとマーケティングの購買データに関する総合問題です。今まで学んだテクニックが活かせる問題です。一部、これまで扱わなかった処理方法もあるので、ヒントなど参考にして、調べながら取り組んでください。\n",
    "初学者にはなかなかハードな問題かもしれませんが、これらの問題に取り組むことで、今まで学んだ技法が役に立つことを実感できるでしょう。"
   ]
  },
  {
   "cell_type": "markdown",
   "metadata": {},
   "source": [
    "***"
   ]
  },
  {
   "cell_type": "markdown",
   "metadata": {},
   "source": [
    "## 5.5 総合問題"
   ]
  },
  {
   "cell_type": "markdown",
   "metadata": {},
   "source": [
    "### ■総合問題5-1 時系列データ分析\n",
    "\n",
    "ここでは、本章で身に付けたPandasやScipyなどを使って、時系列データついて扱っていきましょう。\n",
    "\n",
    "（1）（データの取得と確認）下記のサイトより、dow_jones_index.zipをダウンロードし、含まれている`dow_jones_index.data`を使って、データを読み込み、はじめの5行を表示してください。またデータのそれぞれのカラム情報等を見て、`NaN`などがあるか確認してください。　　\n",
    "\n",
    "https://archive.ics.uci.edu/ml/machine-learning-databases/00312/dow_jones_index.zip　　\n",
    "\n",
    "（2）（データの加工）カラムの`open`、`high`、`low`、`close`等のデータは数字の前に$マークが付いているため、これを取り除いてください。また、日時を`date`型で読み込んでいない場合は、date型に変換しましょう。\n",
    "\n",
    "（3）カラムの`close`について、各`stock`ごとの要約統計量を算出してください。\n",
    "\n",
    "（4）カラムの`close`について、各`stock`の相関を算出する相関行列を出してください。また、`Seaborn`の`heatmap`関数を使って、相関行列のヒートマップを描いてみましょう（ヒント：`Pandas`の`corr`メソッドを使います）。\n",
    "\n",
    "（5）(4)で算出した相関行列の中で一番相関係数が高い`stock`の組み合わせを抽出してください。さらに、その中でもっとも相関係数が高いペアを抜き出し、それぞれの時系列グラフを描いてください。\n",
    "\n",
    "（6） Pandasの`rolling`メソッド（窓関数）を使って、上記で使った各`stock`ごとに、`close`の過去5期（5週間）移動平均時系列データを計算してください。\n",
    "\n",
    "（7） Pandasの`shift`メソッドを使って、上記で使った各stockごとに、`close`の前期（1週前）との比の対数時系列データを計算してください。さらに、この中で、一番ボラティリティ（標準偏差）が一番大きい`stock`と小さい`stock`を抜き出し、その対数変化率グラフを書いてください。"
   ]
  },
  {
   "cell_type": "markdown",
   "metadata": {},
   "source": [
    ">**[ポイント]**\n",
    ">\n",
    ">(6)、(7)の補足についての補足です。\n",
    ">\n",
    ">時系列データ$(\\cdots ,y_{t-1},y_t,y_{t+1}, \\cdots )$の過去n期の移動平均データとは、過去n期のデータの平均、つまり以下を意味します。"
   ]
  },
  {
   "cell_type": "markdown",
   "metadata": {},
   "source": [
    "\\begin{eqnarray}\n",
    "ma_t = \\sum_{s=t-n+1}^t \\frac{y_s}{n}\n",
    "\\end{eqnarray}"
   ]
  },
  {
   "cell_type": "markdown",
   "metadata": {},
   "source": [
    ">時系列データ$(\\cdots ,y_{t-1},y_t,y_{t+1}, \\cdots )$の前期（1週前）との比の対数時系列データとは、$\\log \\frac{y_t} {y_{t-1}}$から成るデータのことです。増減率$r_t = \\frac{y_t - y_{t-1}}{y_t}$が小さいとき、$r_t \\approx \\log \\frac{y_t} {y_{t-1}}$の関係が成り立ちます。これは、$x$が十分小さいときに成り立つ、$\\log (1+x) \\approx x$から導かれます。増減率データ$(r_1,\\cdots ,r_N )$のボラティリティとは、標準偏差"
   ]
  },
  {
   "cell_type": "markdown",
   "metadata": {},
   "source": [
    "\\begin{eqnarray}\n",
    "\\sqrt{\\frac{1}{N}\\sum_{t=1}^N \\left(r_t - \\frac{1}{N}\\sum_{t=1}^N r_t\\right)^2}\n",
    "\\end{eqnarray}"
   ]
  },
  {
   "cell_type": "markdown",
   "metadata": {},
   "source": [
    ">のことで、価格変動の大きさを示す指標として利用されます。"
   ]
  },
  {
   "cell_type": "markdown",
   "metadata": {},
   "source": [
    "### ■総合問題5-2 マーケティング分析\n",
    "\n",
    "次は、マーケティング分析でよく扱われる購買データです。一般ユーザーとは異なる法人の購買データですが、分析する軸は基本的に同じです。\n",
    "\n",
    "（1）下記のURLよりデータをpandasで読み込んでください（件数50万以上のデータで比較的大きいため、少し時間がかかります）。"
   ]
  },
  {
   "cell_type": "markdown",
   "metadata": {},
   "source": [
    "http://archive.ics.uci.edu/ml/machine-learning-databases/00352/Online%20Retail.xlsx"
   ]
  },
  {
   "cell_type": "markdown",
   "metadata": {},
   "source": [
    ">**[ヒント]**\n",
    ">\n",
    ">`pd.ExcelFile`を使って、シートを`.parse('Online Retail')`で指定してください。"
   ]
  },
  {
   "cell_type": "markdown",
   "metadata": {},
   "source": [
    "また、今回の分析対象は、`CustomerID`にデータが入っているレコードのみ対象にするため、そのための処理をしてください。さらに、カラムの`InvoiceNo`には数字の前に`C`があるものはキャンセルのため、このデータを取り除いてください。他にもデータとして取り除く必要があれば、適宜処理してください。以下、このデータをベースに分析していきます。"
   ]
  },
  {
   "cell_type": "markdown",
   "metadata": {},
   "source": [
    "（2）このデータのカラムには、購買日時や商品名、数量、回数、購買者の`ID`などがあります。ここで、購買者（`CustomerID`）のユニーク数、バスケット数（`InvoiceNo`のユニーク数）、商品の種類（`StockCode`ベースと`Description`ベースのユニーク数）を求めてください。\n",
    "\n",
    "（3）このデータのカラムには、`Country`があります。このカラムを軸に、それぞれの国の購買合計金額（単位あたりの金額×数量の合計）を求め、降順にならべて、上位5つの国の結果を表示してください。\n",
    "\n",
    "（4）（3）の上位5つの国について、それぞれの国の商品売り上げ（合計金額）の月別の時系列推移をグラフにしてください。ここで、グラフは分けて表示してください。\n",
    "\n",
    "（5）（3）の上位5つの国について、それぞれの国における売り上げトップ5の商品を抽出してください。また、それらを国ごとに円グラフにしてください。なお、商品は「`Description`」ベースで集計してください。"
   ]
  }
 ],
 "metadata": {
  "anaconda-cloud": {},
  "kernelspec": {
   "display_name": "Python 3",
   "language": "python",
   "name": "python3"
  },
  "language_info": {
   "codemirror_mode": {
    "name": "ipython",
    "version": 3
   },
   "file_extension": ".py",
   "mimetype": "text/x-python",
   "name": "python",
   "nbconvert_exporter": "python",
   "pygments_lexer": "ipython3",
   "version": "3.6.9"
  }
 },
 "nbformat": 4,
 "nbformat_minor": 4
}
