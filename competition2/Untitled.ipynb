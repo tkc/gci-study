{
 "cells": [
  {
   "cell_type": "code",
   "execution_count": null,
   "metadata": {},
   "outputs": [],
   "source": [
    "info@onga.jp\n",
    "https://colab.research.google.com/drive/1j9fsqufuPwN2MfkK-Od0_NhPm-9GBMOg?hl=ja\n",
    "\n",
    "https://colab.research.google.com/drive/1j9fsqufuPwN2MfkK-Od0_NhPm-9GBMOg?hl=ja#scrollTo=_lq5qNNjYJgA\n",
    "https://colab.research.google.com/drive/1gNf7IHo0AxjitC9gxyIKE9z8wpflyBLb?hl=ja#scrollTo=lD_BJLN77uwr\n",
    "https://colab.research.google.com/drive/1__U9AmdnyMKb-6hMIw7oFghEYSUCEOlR?hl=ja#scrollTo=AItr497psPrB    \n",
    "    \n",
    "best    \n",
    "https://colab.research.google.com/drive/1iPznR-44RssvTXLvd6TLav8P_Dn9FP3O?hl=ja#scrollTo=lpLmjgqEAH1M    \n"
   ]
  }
 ],
 "metadata": {
  "kernelspec": {
   "display_name": "Python 3",
   "language": "python",
   "name": "python3"
  },
  "language_info": {
   "codemirror_mode": {
    "name": "ipython",
    "version": 3
   },
   "file_extension": ".py",
   "mimetype": "text/x-python",
   "name": "python",
   "nbconvert_exporter": "python",
   "pygments_lexer": "ipython3",
   "version": "3.6.9"
  }
 },
 "nbformat": 4,
 "nbformat_minor": 4
}
