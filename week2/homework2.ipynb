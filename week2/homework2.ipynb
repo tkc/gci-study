{
 "cells": [
  {
   "cell_type": "markdown",
   "metadata": {},
   "source": [
    "# 課題（ilect上で提出してください）"
   ]
  },
  {
   "cell_type": "markdown",
   "metadata": {},
   "source": [
    "## Pandasを使ったデータ加工処理"
   ]
  },
  {
   "cell_type": "markdown",
   "metadata": {},
   "source": [
    "以下のサイトにあるデータ（ワインの品質）が分析対象になります。\n",
    "\n",
    "http://archive.ics.uci.edu/ml/machine-learning-databases/wine-quality/winequality-red.csv\n",
    "\n",
    "このデータを読み込み、カラムのtotal sulfur dioxideについて分位点で5つに分割し、それぞれのグループについてpHの平均値を算出してください。さらに、この5つのグループのそれぞれのpHの平均値の中で、1番小さい平均値と1番大きな平均値を足して、その合計値を返り値とするような関数を作成してください。"
   ]
  },
  {
   "cell_type": "markdown",
   "metadata": {},
   "source": [
    "提出するときは、以下の点に注意してください。  \n",
    ">- 以下の関数homeworkの!!WRITE ME!!に処理を書いてください。(**「!!WRITE ME!!」は消して、記入してください。**)\n",
    ">- 実際の提出は記述されたhomework関数全てになり、**提出場所はilect上にあるHomeworkからSaveしてください。Solutionに関数を貼り付けます。**   \n",
    ">- 返り値が数値型(1つ)になるようにしてください。\n",
    ">- 関数は1つにまとめてください。"
   ]
  },
  {
   "cell_type": "code",
   "execution_count": 28,
   "metadata": {},
   "outputs": [],
   "source": [
    "# common\n",
    "import numpy as np\n",
    "import pandas as pd\n",
    "from pandas import DataFrame\n",
    "\n",
    "# URL\n",
    "url_winequality_data = \"http://archive.ics.uci.edu/ml/machine-learning-databases/wine-quality/winequality-red.csv\""
   ]
  },
  {
   "cell_type": "code",
   "execution_count": 100,
   "metadata": {},
   "outputs": [
    {
     "name": "stdout",
     "output_type": "stream",
     "text": [
      "      fixed acidity  volatile acidity  citric acid  residual sugar  chlorides  \\\n",
      "0               7.4             0.700         0.00             1.9      0.076   \n",
      "1               7.8             0.880         0.00             2.6      0.098   \n",
      "2               7.8             0.760         0.04             2.3      0.092   \n",
      "3              11.2             0.280         0.56             1.9      0.075   \n",
      "4               7.4             0.700         0.00             1.9      0.076   \n",
      "...             ...               ...          ...             ...        ...   \n",
      "1594            6.2             0.600         0.08             2.0      0.090   \n",
      "1595            5.9             0.550         0.10             2.2      0.062   \n",
      "1596            6.3             0.510         0.13             2.3      0.076   \n",
      "1597            5.9             0.645         0.12             2.0      0.075   \n",
      "1598            6.0             0.310         0.47             3.6      0.067   \n",
      "\n",
      "      free sulfur dioxide  total sulfur dioxide  density    pH  sulphates  \\\n",
      "0                    11.0                  34.0  0.99780  3.51       0.56   \n",
      "1                    25.0                  67.0  0.99680  3.20       0.68   \n",
      "2                    15.0                  54.0  0.99700  3.26       0.65   \n",
      "3                    17.0                  60.0  0.99800  3.16       0.58   \n",
      "4                    11.0                  34.0  0.99780  3.51       0.56   \n",
      "...                   ...                   ...      ...   ...        ...   \n",
      "1594                 32.0                  44.0  0.99490  3.45       0.58   \n",
      "1595                 39.0                  51.0  0.99512  3.52       0.76   \n",
      "1596                 29.0                  40.0  0.99574  3.42       0.75   \n",
      "1597                 32.0                  44.0  0.99547  3.57       0.71   \n",
      "1598                 18.0                  42.0  0.99549  3.39       0.66   \n",
      "\n",
      "      alcohol  quality group  \n",
      "0         9.4        5     C  \n",
      "1         9.8        5     D  \n",
      "2         9.8        5     D  \n",
      "3         9.8        6     D  \n",
      "4         9.4        5     C  \n",
      "...       ...      ...   ...  \n",
      "1594     10.5        5     C  \n",
      "1595     11.2        6     D  \n",
      "1596     11.0        6     C  \n",
      "1597     10.2        5     C  \n",
      "1598     11.0        6     C  \n",
      "\n",
      "[1599 rows x 13 columns]\n"
     ]
    },
    {
     "data": {
      "text/plain": [
       "6.631530628339346"
      ]
     },
     "execution_count": 100,
     "metadata": {},
     "output_type": "execute_result"
    }
   ],
   "source": [
    "# working place. everything \n",
    "def homework(url_winequality_data):\n",
    "    df = pd.read_csv(url_winequality_data, sep=';')\n",
    "    df['group'] = pd.qcut(df[\"total sulfur dioxide\"], 5, labels=['A', 'B', 'C', 'D', 'E'])\n",
    "    \n",
    "    print(df)\n",
    "    means = df.groupby('group')['pH'].mean()\n",
    "    \n",
    "#     print(means.min())\n",
    "#     print(means.max())\n",
    "#     print(means)\n",
    "#     print(sorted_means)\n",
    "\n",
    "    return means.min() + means.max()\n",
    "\n",
    "homework(url_winequality_data)"
   ]
  },
  {
   "cell_type": "code",
   "execution_count": 101,
   "metadata": {},
   "outputs": [
    {
     "data": {
      "text/plain": [
       "6.631530628339346"
      ]
     },
     "execution_count": 101,
     "metadata": {},
     "output_type": "execute_result"
    }
   ],
   "source": [
    "# working place. everything \n",
    "def homework(url_winequality_data):\n",
    "    df = pd.read_csv(url_winequality_data, sep=';')\n",
    "    df['group'] = pd.qcut(df[\"total sulfur dioxide\"], 5, labels=['A', 'B', 'C', 'D', 'E'])\n",
    "    means = df.groupby('group')['pH'].mean()\n",
    "    return means.min() + means.max()\n",
    "\n",
    "homework(url_winequality_data)"
   ]
  },
  {
   "cell_type": "code",
   "execution_count": 88,
   "metadata": {},
   "outputs": [],
   "source": [
    "# # working place. everything \n",
    "# def homework(url_winequality_data):\n",
    "#     df = pd.read_csv(url_winequality_data, sep=';')\n",
    "#     df['group'] = pd.qcut(df[\"total sulfur dioxide\"], 1, labels=['A'])\n",
    "#     means = df.groupby('group')['pH'].mean()\n",
    "#     print(means)\n",
    "#     return means.min() + means.max()\n",
    "\n",
    "# homework(url_winequality_data)"
   ]
  },
  {
   "cell_type": "code",
   "execution_count": 102,
   "metadata": {},
   "outputs": [
    {
     "data": {
      "text/plain": [
       "6.631530628339346"
      ]
     },
     "execution_count": 102,
     "metadata": {},
     "output_type": "execute_result"
    }
   ],
   "source": [
    "def homework(url_winequality_data):\n",
    "    df = pd.read_csv(url_winequality_data, sep=';')\n",
    "    df['group'] = pd.qcut(df[\"total sulfur dioxide\"], 5, labels=['A', 'B', 'C', 'D', 'E'])\n",
    "    means = df.groupby('group')['pH'].mean()\n",
    "    return means.min() + means.max()\n",
    "\n",
    "homework(url_winequality_data)"
   ]
  },
  {
   "cell_type": "code",
   "execution_count": null,
   "metadata": {},
   "outputs": [],
   "source": []
  }
 ],
 "metadata": {
  "anaconda-cloud": {},
  "kernelspec": {
   "display_name": "Python 3",
   "language": "python",
   "name": "python3"
  },
  "language_info": {
   "codemirror_mode": {
    "name": "ipython",
    "version": 3
   },
   "file_extension": ".py",
   "mimetype": "text/x-python",
   "name": "python",
   "nbconvert_exporter": "python",
   "pygments_lexer": "ipython3",
   "version": "3.6.9"
  }
 },
 "nbformat": 4,
 "nbformat_minor": 4
}
